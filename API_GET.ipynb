{
  "cells": [
    {
      "cell_type": "markdown",
      "metadata": {
        "id": "CLw3WYi9O-U_"
      },
      "source": [
        "# Install and Import"
      ]
    },
    {
      "cell_type": "code",
      "execution_count": 1,
      "metadata": {
        "colab": {
          "base_uri": "https://localhost:8080/"
        },
        "id": "AcNbMPcC82Dk",
        "outputId": "8bfaab2d-ee2b-4bd6-f0ce-38ffac9d8364"
      },
      "outputs": [
        {
          "output_type": "stream",
          "name": "stdout",
          "text": [
            "Requirement already satisfied: Flask in /usr/local/lib/python3.11/dist-packages (3.1.0)\n",
            "Requirement already satisfied: Werkzeug>=3.1 in /usr/local/lib/python3.11/dist-packages (from Flask) (3.1.3)\n",
            "Requirement already satisfied: Jinja2>=3.1.2 in /usr/local/lib/python3.11/dist-packages (from Flask) (3.1.6)\n",
            "Requirement already satisfied: itsdangerous>=2.2 in /usr/local/lib/python3.11/dist-packages (from Flask) (2.2.0)\n",
            "Requirement already satisfied: click>=8.1.3 in /usr/local/lib/python3.11/dist-packages (from Flask) (8.1.8)\n",
            "Requirement already satisfied: blinker>=1.9 in /usr/local/lib/python3.11/dist-packages (from Flask) (1.9.0)\n",
            "Requirement already satisfied: MarkupSafe>=2.0 in /usr/local/lib/python3.11/dist-packages (from Jinja2>=3.1.2->Flask) (3.0.2)\n",
            "Requirement already satisfied: firebase_admin in /usr/local/lib/python3.11/dist-packages (6.8.0)\n",
            "Requirement already satisfied: cachecontrol>=0.12.14 in /usr/local/lib/python3.11/dist-packages (from firebase_admin) (0.14.3)\n",
            "Requirement already satisfied: google-api-python-client>=1.7.8 in /usr/local/lib/python3.11/dist-packages (from firebase_admin) (2.169.0)\n",
            "Requirement already satisfied: google-cloud-storage>=1.37.1 in /usr/local/lib/python3.11/dist-packages (from firebase_admin) (2.19.0)\n",
            "Requirement already satisfied: pyjwt>=2.5.0 in /usr/local/lib/python3.11/dist-packages (from pyjwt[crypto]>=2.5.0->firebase_admin) (2.10.1)\n",
            "Requirement already satisfied: google-api-core<3.0.0dev,>=1.22.1 in /usr/local/lib/python3.11/dist-packages (from google-api-core[grpc]<3.0.0dev,>=1.22.1; platform_python_implementation != \"PyPy\"->firebase_admin) (2.24.2)\n",
            "Requirement already satisfied: google-cloud-firestore>=2.19.0 in /usr/local/lib/python3.11/dist-packages (from firebase_admin) (2.20.2)\n",
            "Requirement already satisfied: requests>=2.16.0 in /usr/local/lib/python3.11/dist-packages (from cachecontrol>=0.12.14->firebase_admin) (2.32.3)\n",
            "Requirement already satisfied: msgpack<2.0.0,>=0.5.2 in /usr/local/lib/python3.11/dist-packages (from cachecontrol>=0.12.14->firebase_admin) (1.1.0)\n",
            "Requirement already satisfied: googleapis-common-protos<2.0.0,>=1.56.2 in /usr/local/lib/python3.11/dist-packages (from google-api-core<3.0.0dev,>=1.22.1->google-api-core[grpc]<3.0.0dev,>=1.22.1; platform_python_implementation != \"PyPy\"->firebase_admin) (1.70.0)\n",
            "Requirement already satisfied: protobuf!=3.20.0,!=3.20.1,!=4.21.0,!=4.21.1,!=4.21.2,!=4.21.3,!=4.21.4,!=4.21.5,<7.0.0,>=3.19.5 in /usr/local/lib/python3.11/dist-packages (from google-api-core<3.0.0dev,>=1.22.1->google-api-core[grpc]<3.0.0dev,>=1.22.1; platform_python_implementation != \"PyPy\"->firebase_admin) (5.29.4)\n",
            "Requirement already satisfied: proto-plus<2.0.0,>=1.22.3 in /usr/local/lib/python3.11/dist-packages (from google-api-core<3.0.0dev,>=1.22.1->google-api-core[grpc]<3.0.0dev,>=1.22.1; platform_python_implementation != \"PyPy\"->firebase_admin) (1.26.1)\n",
            "Requirement already satisfied: google-auth<3.0.0,>=2.14.1 in /usr/local/lib/python3.11/dist-packages (from google-api-core<3.0.0dev,>=1.22.1->google-api-core[grpc]<3.0.0dev,>=1.22.1; platform_python_implementation != \"PyPy\"->firebase_admin) (2.38.0)\n",
            "Requirement already satisfied: grpcio<2.0dev,>=1.33.2 in /usr/local/lib/python3.11/dist-packages (from google-api-core[grpc]<3.0.0dev,>=1.22.1; platform_python_implementation != \"PyPy\"->firebase_admin) (1.71.0)\n",
            "Requirement already satisfied: grpcio-status<2.0.dev0,>=1.33.2 in /usr/local/lib/python3.11/dist-packages (from google-api-core[grpc]<3.0.0dev,>=1.22.1; platform_python_implementation != \"PyPy\"->firebase_admin) (1.71.0)\n",
            "Requirement already satisfied: httplib2<1.0.0,>=0.19.0 in /usr/local/lib/python3.11/dist-packages (from google-api-python-client>=1.7.8->firebase_admin) (0.22.0)\n",
            "Requirement already satisfied: google-auth-httplib2<1.0.0,>=0.2.0 in /usr/local/lib/python3.11/dist-packages (from google-api-python-client>=1.7.8->firebase_admin) (0.2.0)\n",
            "Requirement already satisfied: uritemplate<5,>=3.0.1 in /usr/local/lib/python3.11/dist-packages (from google-api-python-client>=1.7.8->firebase_admin) (4.1.1)\n",
            "Requirement already satisfied: google-cloud-core<3.0.0,>=1.4.1 in /usr/local/lib/python3.11/dist-packages (from google-cloud-firestore>=2.19.0->firebase_admin) (2.4.3)\n",
            "Requirement already satisfied: google-resumable-media>=2.7.2 in /usr/local/lib/python3.11/dist-packages (from google-cloud-storage>=1.37.1->firebase_admin) (2.7.2)\n",
            "Requirement already satisfied: google-crc32c<2.0dev,>=1.0 in /usr/local/lib/python3.11/dist-packages (from google-cloud-storage>=1.37.1->firebase_admin) (1.7.1)\n",
            "Requirement already satisfied: cryptography>=3.4.0 in /usr/local/lib/python3.11/dist-packages (from pyjwt[crypto]>=2.5.0->firebase_admin) (43.0.3)\n",
            "Requirement already satisfied: cffi>=1.12 in /usr/local/lib/python3.11/dist-packages (from cryptography>=3.4.0->pyjwt[crypto]>=2.5.0->firebase_admin) (1.17.1)\n",
            "Requirement already satisfied: cachetools<6.0,>=2.0.0 in /usr/local/lib/python3.11/dist-packages (from google-auth<3.0.0,>=2.14.1->google-api-core<3.0.0dev,>=1.22.1->google-api-core[grpc]<3.0.0dev,>=1.22.1; platform_python_implementation != \"PyPy\"->firebase_admin) (5.5.2)\n",
            "Requirement already satisfied: pyasn1-modules>=0.2.1 in /usr/local/lib/python3.11/dist-packages (from google-auth<3.0.0,>=2.14.1->google-api-core<3.0.0dev,>=1.22.1->google-api-core[grpc]<3.0.0dev,>=1.22.1; platform_python_implementation != \"PyPy\"->firebase_admin) (0.4.2)\n",
            "Requirement already satisfied: rsa<5,>=3.1.4 in /usr/local/lib/python3.11/dist-packages (from google-auth<3.0.0,>=2.14.1->google-api-core<3.0.0dev,>=1.22.1->google-api-core[grpc]<3.0.0dev,>=1.22.1; platform_python_implementation != \"PyPy\"->firebase_admin) (4.9.1)\n",
            "Requirement already satisfied: pyparsing!=3.0.0,!=3.0.1,!=3.0.2,!=3.0.3,<4,>=2.4.2 in /usr/local/lib/python3.11/dist-packages (from httplib2<1.0.0,>=0.19.0->google-api-python-client>=1.7.8->firebase_admin) (3.2.3)\n",
            "Requirement already satisfied: charset-normalizer<4,>=2 in /usr/local/lib/python3.11/dist-packages (from requests>=2.16.0->cachecontrol>=0.12.14->firebase_admin) (3.4.2)\n",
            "Requirement already satisfied: idna<4,>=2.5 in /usr/local/lib/python3.11/dist-packages (from requests>=2.16.0->cachecontrol>=0.12.14->firebase_admin) (3.10)\n",
            "Requirement already satisfied: urllib3<3,>=1.21.1 in /usr/local/lib/python3.11/dist-packages (from requests>=2.16.0->cachecontrol>=0.12.14->firebase_admin) (2.4.0)\n",
            "Requirement already satisfied: certifi>=2017.4.17 in /usr/local/lib/python3.11/dist-packages (from requests>=2.16.0->cachecontrol>=0.12.14->firebase_admin) (2025.4.26)\n",
            "Requirement already satisfied: pycparser in /usr/local/lib/python3.11/dist-packages (from cffi>=1.12->cryptography>=3.4.0->pyjwt[crypto]>=2.5.0->firebase_admin) (2.22)\n",
            "Requirement already satisfied: pyasn1<0.7.0,>=0.6.1 in /usr/local/lib/python3.11/dist-packages (from pyasn1-modules>=0.2.1->google-auth<3.0.0,>=2.14.1->google-api-core<3.0.0dev,>=1.22.1->google-api-core[grpc]<3.0.0dev,>=1.22.1; platform_python_implementation != \"PyPy\"->firebase_admin) (0.6.1)\n"
          ]
        }
      ],
      "source": [
        "!pip install Flask\n",
        "!pip install firebase_admin"
      ]
    },
    {
      "cell_type": "code",
      "execution_count": 2,
      "metadata": {
        "colab": {
          "base_uri": "https://localhost:8080/"
        },
        "id": "St0jn6GbKSYQ",
        "outputId": "dd100c9f-08f5-42f9-b75d-3171da77459c"
      },
      "outputs": [
        {
          "output_type": "stream",
          "name": "stdout",
          "text": [
            "Mounted at /content/drive\n"
          ]
        }
      ],
      "source": [
        "from google.colab import drive\n",
        "drive.mount('/content/drive')"
      ]
    },
    {
      "cell_type": "code",
      "execution_count": 3,
      "metadata": {
        "id": "xGBrE1MWL6-C"
      },
      "outputs": [],
      "source": [
        "from flask import Flask, request, jsonify\n",
        "import time\n",
        "from datetime import datetime, timezone\n",
        "import io\n",
        "import os\n",
        "import firebase_admin # Import Firebase Admin SDK\n",
        "from firebase_admin import credentials\n",
        "from firebase_admin import firestore # Import Cloud Firestore\n",
        "\n"
      ]
    },
    {
      "cell_type": "markdown",
      "metadata": {
        "id": "_nXiyjQubbYN"
      },
      "source": [
        "# Connect DataBase And APP"
      ]
    },
    {
      "cell_type": "code",
      "execution_count": 5,
      "metadata": {
        "id": "2iT6W3hLaSGF"
      },
      "outputs": [],
      "source": [
        "\n",
        "\n",
        "def initialize_firebase():\n",
        "    global db\n",
        "    try:\n",
        "        # Kiểm tra xem app Firebase đã được khởi tạo chưa\n",
        "        if not firebase_admin._apps:\n",
        "            # Sử dụng thông tin xác thực từ file JSON\n",
        "            cred = credentials.Certificate(\"/content/drive/MyDrive/Project/Dự án cntt 2 /dataset/density-traffic-app-firebase-adminsdk-fbsvc-0f73d667a9.json\")\n",
        "            # Khởi tạo Firebase Admin SDK\n",
        "            firebase_admin.initialize_app(cred)\n",
        "            print(\"Firebase Admin SDK initialized successfully.\")\n",
        "\n",
        "        # Lấy đối tượng Firestore client\n",
        "        db = firestore.client()\n",
        "        print(\"Firestore client obtained.\")\n",
        "        return True\n",
        "    except FileNotFoundError:\n",
        "        print(f\"ERROR: Firebase service account key file not found at {cred}\")\n",
        "        return False\n",
        "    except Exception as e:\n",
        "        print(f\"ERROR initializing Firebase: {e}\")\n",
        "        return False"
      ]
    },
    {
      "cell_type": "markdown",
      "metadata": {
        "id": "vTUJQQBPOV7e"
      },
      "source": [
        "# Config NGROK"
      ]
    },
    {
      "cell_type": "code",
      "execution_count": 6,
      "metadata": {
        "colab": {
          "base_uri": "https://localhost:8080/"
        },
        "id": "7dkhOBlR4Sft",
        "outputId": "3f05e631-f60e-4785-8f63-ffaea28664a5"
      },
      "outputs": [
        {
          "output_type": "stream",
          "name": "stdout",
          "text": [
            "Collecting pyngrok\n",
            "  Downloading pyngrok-7.2.8-py3-none-any.whl.metadata (10 kB)\n",
            "Requirement already satisfied: PyYAML>=5.1 in /usr/local/lib/python3.11/dist-packages (from pyngrok) (6.0.2)\n",
            "Downloading pyngrok-7.2.8-py3-none-any.whl (25 kB)\n",
            "Installing collected packages: pyngrok\n",
            "Successfully installed pyngrok-7.2.8\n",
            "Collecting flask-pyngrok\n",
            "  Downloading Flask-PyNgrok-1.0.3.tar.gz (2.3 kB)\n",
            "  Preparing metadata (setup.py) ... \u001b[?25l\u001b[?25hdone\n",
            "Requirement already satisfied: Flask in /usr/local/lib/python3.11/dist-packages (from flask-pyngrok) (3.1.0)\n",
            "Requirement already satisfied: pyngrok in /usr/local/lib/python3.11/dist-packages (from flask-pyngrok) (7.2.8)\n",
            "Requirement already satisfied: Werkzeug>=3.1 in /usr/local/lib/python3.11/dist-packages (from Flask->flask-pyngrok) (3.1.3)\n",
            "Requirement already satisfied: Jinja2>=3.1.2 in /usr/local/lib/python3.11/dist-packages (from Flask->flask-pyngrok) (3.1.6)\n",
            "Requirement already satisfied: itsdangerous>=2.2 in /usr/local/lib/python3.11/dist-packages (from Flask->flask-pyngrok) (2.2.0)\n",
            "Requirement already satisfied: click>=8.1.3 in /usr/local/lib/python3.11/dist-packages (from Flask->flask-pyngrok) (8.1.8)\n",
            "Requirement already satisfied: blinker>=1.9 in /usr/local/lib/python3.11/dist-packages (from Flask->flask-pyngrok) (1.9.0)\n",
            "Requirement already satisfied: PyYAML>=5.1 in /usr/local/lib/python3.11/dist-packages (from pyngrok->flask-pyngrok) (6.0.2)\n",
            "Requirement already satisfied: MarkupSafe>=2.0 in /usr/local/lib/python3.11/dist-packages (from Jinja2>=3.1.2->Flask->flask-pyngrok) (3.0.2)\n",
            "Building wheels for collected packages: flask-pyngrok\n",
            "  Building wheel for flask-pyngrok (setup.py) ... \u001b[?25l\u001b[?25hdone\n",
            "  Created wheel for flask-pyngrok: filename=Flask_PyNgrok-1.0.3-py3-none-any.whl size=2164 sha256=220653b55996358c0b0d332c5fd1d7536a6eb375e2ebb491ff4bf4d1a38e79a4\n",
            "  Stored in directory: /root/.cache/pip/wheels/b2/02/ad/af386e8ac8b262575fb24016c3f2d21f5a96dade26cabb57c4\n",
            "Successfully built flask-pyngrok\n",
            "Installing collected packages: flask-pyngrok\n",
            "Successfully installed flask-pyngrok-1.0.3\n"
          ]
        }
      ],
      "source": [
        "!pip install pyngrok\n",
        "!pip install flask-pyngrok"
      ]
    },
    {
      "cell_type": "code",
      "execution_count": 7,
      "metadata": {
        "id": "FYVDPixM3FA1"
      },
      "outputs": [],
      "source": [
        "from pyngrok import ngrok\n",
        "import threading\n",
        "import time\n",
        "import logging\n",
        "\n"
      ]
    },
    {
      "cell_type": "code",
      "execution_count": 8,
      "metadata": {
        "colab": {
          "base_uri": "https://localhost:8080/"
        },
        "id": "aJgxoI3d5-yn",
        "outputId": "d366b57a-5568-4584-9e48-74c731619e91"
      },
      "outputs": [
        {
          "output_type": "stream",
          "name": "stdout",
          "text": [
            "Authtoken saved to configuration file: /root/.config/ngrok/ngrok.yml\n"
          ]
        }
      ],
      "source": [
        "!ngrok authtoken 2wxoCJhRUriCw9aQDK5Vcbab88R_4gnHxxQ1CdaXQFScr8CVs"
      ]
    },
    {
      "cell_type": "code",
      "execution_count": null,
      "metadata": {
        "id": "KQLPE_CLN12_"
      },
      "outputs": [],
      "source": [
        "ngrok.kill()\n"
      ]
    },
    {
      "cell_type": "code",
      "execution_count": 10,
      "metadata": {
        "colab": {
          "base_uri": "https://localhost:8080/"
        },
        "id": "etIB9KfTP2pP",
        "outputId": "dbe51283-b92a-4623-a71c-345554e69a9e"
      },
      "outputs": [
        {
          "output_type": "stream",
          "name": "stdout",
          "text": [
            "Firebase Admin SDK initialized successfully.\n",
            "Firestore client obtained.\n"
          ]
        },
        {
          "output_type": "execute_result",
          "data": {
            "text/plain": [
              "True"
            ]
          },
          "metadata": {},
          "execution_count": 10
        }
      ],
      "source": [
        "app = Flask(__name__)\n",
        "initialize_firebase()"
      ]
    },
    {
      "cell_type": "code",
      "execution_count": 11,
      "metadata": {
        "id": "jhZ8R-LhPWKr"
      },
      "outputs": [],
      "source": [
        "@app.route('/api/traffic/latest_densities', methods=['GET'])\n",
        "def get_latest_densities_endpoint():\n",
        "    \"\"\"\n",
        "    Endpoint to fetch the latest traffic density data from Firestore for requested cameras.\n",
        "    Receives camera_ids (string) via query parameter.\n",
        "    Returns a list of TrafficDensityReading objects (excluding the 'maximum' field).\n",
        "    \"\"\"\n",
        "    # Check if the Firestore client is available\n",
        "    if db is None:\n",
        "        logging.error(\"Firestore client is not available in get_latest_densities_endpoint.\")\n",
        "        return jsonify({\"error\": \"Database not initialized\"}), 500\n",
        "\n",
        "    camera_ids_param = request.args.get('camera_ids')\n",
        "\n",
        "    if not camera_ids_param:\n",
        "        logging.warning(\"No 'camera_ids' query parameter provided for GET request.\")\n",
        "        return jsonify([]), 200 # Return an empty list as it's safe and valid\n",
        "\n",
        "\n",
        "    requested_camera_ids = [id.strip() for id in camera_ids_param.split(',') if id.strip()]\n",
        "\n",
        "    if not requested_camera_ids:\n",
        "        logging.warning(\"Provided 'camera_ids' parameter is empty or contains only whitespace after splitting.\")\n",
        "        return jsonify([]), 200 # Return an empty list if no valid IDs after splitting\n",
        "\n",
        "    logging.info(f\"Received GET request for camera IDs: {requested_camera_ids}\")\n",
        "\n",
        "    results = [] # List to store results for the cameras\n",
        "\n",
        "    # Loop through each requested camera ID\n",
        "    for camera_id in requested_camera_ids:\n",
        "        try:\n",
        "            # Reference the camera's document in the 'cameras' collection\n",
        "            # Assuming each camera has a document with its ID as the document ID\n",
        "            camera_ref = db.collection('cameras').document(camera_id)\n",
        "\n",
        "            # Get the current document\n",
        "            doc = camera_ref.get()\n",
        "\n",
        "            # Check if the document exists\n",
        "            if doc.exists:\n",
        "                doc_data = doc.to_dict()\n",
        "                # logging.info(f\"Found data for camera ID {camera_id}: {doc_data}\") # This log might be too verbose\n",
        "\n",
        "                # Extract necessary data\n",
        "                # Use .get() with default values to avoid KeyError if fields are missing\n",
        "                density = doc_data.get('density', 0.0) # Density (0.0-1.0 ratio)\n",
        "                timestamp = doc_data.get('timestamp', 0) # Timestamp (milliseconds)\n",
        "                # maximum = doc_data.get('maximum', 0.0) # Exclude the 'maximum' field as requested\n",
        "                summary = doc_data.get('summary', '') # Summary text\n",
        "\n",
        "                # Create the result dictionary matching the Android TrafficDensityReading class\n",
        "                # Ensure key names match the @SerializedName in the Android data class\n",
        "                result_item = {\n",
        "                    \"camera_id\": camera_id,\n",
        "                    \"timestamp\": timestamp,\n",
        "                    \"density\": density,\n",
        "                    # \"maximum\": maximum, # Exclude the maximum field from the GET response\n",
        "                    \"summary\": summary # Include the summary text in the response\n",
        "                }\n",
        "                results.append(result_item)\n",
        "\n",
        "            else:\n",
        "                logging.warning(f\"No data found in Firestore for camera ID: {camera_id}\")\n",
        "                # Add an item to the results indicating that no data was found for this ID\n",
        "                results.append({\n",
        "                    \"camera_id\": camera_id,\n",
        "                    \"timestamp\": 0, # Or current timestamp if preferred\n",
        "                    \"density\": 0.0,\n",
        "                    # \"maximum\": 0.0, # Exclude the maximum field\n",
        "                    \"summary\": \"No data found\",\n",
        "                    \"status\": \"not_found\" # Add a status field for the client\n",
        "                })\n",
        "\n",
        "        except Exception as e:\n",
        "            # Handle errors that occur while fetching data from Firestore\n",
        "            logging.error(f\"Error fetching data for camera ID {camera_id} from Firestore: {e}\")\n",
        "            # Add an item to the results indicating an error for this ID\n",
        "            results.append({\n",
        "                 \"camera_id\": camera_id,\n",
        "                 \"timestamp\": 0,\n",
        "                 \"density\": 0.0,\n",
        "                 # \"maximum\": 0.0, # Exclude the maximum field\n",
        "                 \"summary\": f\"Error fetching: {e}\",\n",
        "                 \"status\": \"error\" # Add a status field for the client\n",
        "            })\n",
        "\n",
        "\n",
        "    # Return the list of results as JSON\n",
        "    # jsonify will automatically set the Content-Type to application/json\n",
        "    return jsonify(results), 200 # Return the list of results and status code 200 OK\n"
      ]
    },
    {
      "cell_type": "code",
      "execution_count": 12,
      "metadata": {
        "id": "ivfL5_myRY7a"
      },
      "outputs": [],
      "source": [
        "@app.route('/')\n",
        "def home():\n",
        "    \"\"\"Root endpoint, returns a welcome message or status.\"\"\"\n",
        "    logging.info(\"Accessed root endpoint.\")\n",
        "    return \"Traffic Density API Backend is running!\""
      ]
    },
    {
      "cell_type": "code",
      "execution_count": 13,
      "metadata": {
        "id": "Lpn6t3w0SF1y"
      },
      "outputs": [],
      "source": [
        "!lsof -i :5000"
      ]
    },
    {
      "cell_type": "code",
      "execution_count": null,
      "metadata": {
        "id": "KCJu9HouSIDL"
      },
      "outputs": [],
      "source": [
        "#!kill 349"
      ]
    },
    {
      "cell_type": "code",
      "execution_count": null,
      "metadata": {
        "id": "ktoT5F7aSOA4"
      },
      "outputs": [],
      "source": []
    },
    {
      "cell_type": "code",
      "execution_count": null,
      "metadata": {
        "colab": {
          "background_save": true,
          "base_uri": "https://localhost:8080/"
        },
        "id": "qjhpPr_ZPHSD",
        "outputId": "57c38d75-92b5-4d6f-f0cb-a5b491b401ab"
      },
      "outputs": [
        {
          "output_type": "stream",
          "name": "stdout",
          "text": [
            "Firestore client obtained.\n",
            " * Ngrok URL: https://eadf-35-247-40-140.ngrok-free.app\n",
            "Press Ctrl+C in this cell to stop the tunnel and application.\n",
            " * Serving Flask app '__main__'\n",
            " * Debug mode: off\n"
          ]
        },
        {
          "output_type": "stream",
          "name": "stderr",
          "text": [
            "INFO:werkzeug:\u001b[31m\u001b[1mWARNING: This is a development server. Do not use it in a production deployment. Use a production WSGI server instead.\u001b[0m\n",
            " * Running on all addresses (0.0.0.0)\n",
            " * Running on http://127.0.0.1:5000\n",
            " * Running on http://172.28.0.12:5000\n",
            "INFO:werkzeug:\u001b[33mPress CTRL+C to quit\u001b[0m\n",
            "INFO:werkzeug:127.0.0.1 - - [13/May/2025 15:08:26] \"GET /api/traffic/latest_densities?camera_ids=66f126e8538c780017c9362f HTTP/1.1\" 200 -\n",
            "INFO:werkzeug:127.0.0.1 - - [13/May/2025 15:08:39] \"GET /api/traffic/latest_densities?camera_ids=66f126e8538c780017c9362f HTTP/1.1\" 200 -\n",
            "INFO:werkzeug:127.0.0.1 - - [13/May/2025 15:08:47] \"GET /api/traffic/latest_densities?camera_ids=662b4e8e1afb9c00172d865c HTTP/1.1\" 200 -\n",
            "INFO:werkzeug:127.0.0.1 - - [13/May/2025 15:09:01] \"GET /api/traffic/latest_densities?camera_ids=662b4e8e1afb9c00172d865c HTTP/1.1\" 200 -\n",
            "INFO:werkzeug:127.0.0.1 - - [13/May/2025 15:09:16] \"GET /api/traffic/latest_densities?camera_ids=662b4e8e1afb9c00172d865c HTTP/1.1\" 200 -\n",
            "INFO:werkzeug:127.0.0.1 - - [13/May/2025 15:09:28] \"GET /api/traffic/latest_densities?camera_ids=662b4e8e1afb9c00172d865c HTTP/1.1\" 200 -\n",
            "INFO:werkzeug:127.0.0.1 - - [13/May/2025 15:09:42] \"GET /api/traffic/latest_densities?camera_ids=662b4e8e1afb9c00172d865c HTTP/1.1\" 200 -\n",
            "INFO:werkzeug:127.0.0.1 - - [13/May/2025 15:09:53] \"GET /api/traffic/latest_densities?camera_ids=649da419a6068200171a6c90 HTTP/1.1\" 200 -\n",
            "INFO:werkzeug:127.0.0.1 - - [13/May/2025 15:10:07] \"GET /api/traffic/latest_densities?camera_ids=649da419a6068200171a6c90 HTTP/1.1\" 200 -\n",
            "INFO:werkzeug:127.0.0.1 - - [13/May/2025 15:11:00] \"GET /api/traffic/latest_densities?camera_ids=649da419a6068200171a6c90 HTTP/1.1\" 200 -\n",
            "INFO:werkzeug:127.0.0.1 - - [13/May/2025 15:11:15] \"GET /api/traffic/latest_densities?camera_ids=649da419a6068200171a6c90 HTTP/1.1\" 200 -\n",
            "INFO:werkzeug:127.0.0.1 - - [13/May/2025 15:19:58] \"GET /api/traffic/latest_densities?camera_ids=66f126e8538c780017c9362f HTTP/1.1\" 200 -\n",
            "INFO:werkzeug:127.0.0.1 - - [13/May/2025 15:20:12] \"GET /api/traffic/latest_densities?camera_ids=66f126e8538c780017c9362f HTTP/1.1\" 200 -\n",
            "INFO:werkzeug:127.0.0.1 - - [13/May/2025 15:20:24] \"GET /api/traffic/latest_densities?camera_ids=662b4e8e1afb9c00172d865c HTTP/1.1\" 200 -\n",
            "INFO:werkzeug:127.0.0.1 - - [13/May/2025 15:20:38] \"GET /api/traffic/latest_densities?camera_ids=662b4e8e1afb9c00172d865c HTTP/1.1\" 200 -\n",
            "INFO:werkzeug:127.0.0.1 - - [13/May/2025 15:20:53] \"GET /api/traffic/latest_densities?camera_ids=662b4e8e1afb9c00172d865c HTTP/1.1\" 200 -\n",
            "INFO:werkzeug:127.0.0.1 - - [13/May/2025 15:21:08] \"GET /api/traffic/latest_densities?camera_ids=662b4e8e1afb9c00172d865c HTTP/1.1\" 200 -\n",
            "INFO:werkzeug:127.0.0.1 - - [13/May/2025 15:21:23] \"GET /api/traffic/latest_densities?camera_ids=662b4e8e1afb9c00172d865c HTTP/1.1\" 200 -\n",
            "INFO:werkzeug:127.0.0.1 - - [13/May/2025 15:21:38] \"GET /api/traffic/latest_densities?camera_ids=662b4e8e1afb9c00172d865c HTTP/1.1\" 200 -\n",
            "INFO:werkzeug:127.0.0.1 - - [13/May/2025 15:21:53] \"GET /api/traffic/latest_densities?camera_ids=662b4e8e1afb9c00172d865c HTTP/1.1\" 200 -\n",
            "INFO:werkzeug:127.0.0.1 - - [13/May/2025 15:22:09] \"GET /api/traffic/latest_densities?camera_ids=662b4e8e1afb9c00172d865c HTTP/1.1\" 200 -\n",
            "INFO:werkzeug:127.0.0.1 - - [13/May/2025 15:22:23] \"GET /api/traffic/latest_densities?camera_ids=662b4e8e1afb9c00172d865c HTTP/1.1\" 200 -\n",
            "INFO:werkzeug:127.0.0.1 - - [13/May/2025 15:22:38] \"GET /api/traffic/latest_densities?camera_ids=662b4e8e1afb9c00172d865c HTTP/1.1\" 200 -\n",
            "INFO:werkzeug:127.0.0.1 - - [13/May/2025 15:22:53] \"GET /api/traffic/latest_densities?camera_ids=662b4e8e1afb9c00172d865c HTTP/1.1\" 200 -\n",
            "INFO:werkzeug:127.0.0.1 - - [13/May/2025 15:23:08] \"GET /api/traffic/latest_densities?camera_ids=662b4e8e1afb9c00172d865c HTTP/1.1\" 200 -\n",
            "INFO:werkzeug:127.0.0.1 - - [13/May/2025 15:23:23] \"GET /api/traffic/latest_densities?camera_ids=662b4e8e1afb9c00172d865c HTTP/1.1\" 200 -\n",
            "INFO:werkzeug:127.0.0.1 - - [13/May/2025 15:23:38] \"GET /api/traffic/latest_densities?camera_ids=662b4e8e1afb9c00172d865c HTTP/1.1\" 200 -\n"
          ]
        }
      ],
      "source": [
        "if __name__ == '__main__':\n",
        "    initialize_firebase()\n",
        "\n",
        "    if firebase_admin._apps and db is not None:\n",
        "        logging.info(\"Starting Flask server and Ngrok tunnel...\")\n",
        "\n",
        "        FLASK_PORT = 5000\n",
        "\n",
        "        tunnel = None\n",
        "        public_url = None\n",
        "\n",
        "        try:\n",
        "\n",
        "            ngrok.kill()\n",
        "            logging.info(\"Killed existing ngrok tunnels.\")\n",
        "\n",
        "            time.sleep(2)\n",
        "            logging.info(\"Waited 2 seconds after killing ngrok.\")\n",
        "\n",
        "            tunnel = ngrok.connect(FLASK_PORT)\n",
        "            public_url = tunnel.public_url\n",
        "\n",
        "            logging.info(f\"Ngrok tunnel created: {public_url}\")\n",
        "            print(f\" * Ngrok URL: {public_url}\")\n",
        "\n",
        "            logging.info(\"Starting Flask app in a separate thread...\")\n",
        "            threading.Thread(target=app.run, kwargs={'host': '0.0.0.0', 'port': FLASK_PORT, 'debug': False, 'use_reloader': False}).start()\n",
        "            logging.info(f\"Flask app thread started on port {FLASK_PORT}.\")\n",
        "\n",
        "            print(\"Press Ctrl+C in this cell to stop the tunnel and application.\")\n",
        "            try:\n",
        "\n",
        "                stop_event = threading.Event()\n",
        "                stop_event.wait()\n",
        "            except KeyboardInterrupt:\n",
        "                logging.info(\"\\nInterrupt received, stopping application...\")\n",
        "            finally:\n",
        "                if tunnel:\n",
        "                    ngrok.disconnect(public_url)\n",
        "                    logging.info(\"Ngrok tunnel disconnected.\")\n",
        "                logging.info(\"Application stopped.\")\n",
        "\n",
        "        except Exception as e:\n",
        "            logging.error(f\"An error occurred while setting up or running Flask/Ngrok: {e}\")\n",
        "            import traceback\n",
        "            logging.error(traceback.format_exc())\n",
        "            print(f\" * Error: {e}\")\n",
        "\n",
        "    else:\n",
        "        logging.error(\"Flask server cannot start because Firebase was not initialized successfully.\")\n"
      ]
    }
  ],
  "metadata": {
    "colab": {
      "provenance": []
    },
    "kernelspec": {
      "display_name": "Python 3",
      "name": "python3"
    }
  },
  "nbformat": 4,
  "nbformat_minor": 0
}